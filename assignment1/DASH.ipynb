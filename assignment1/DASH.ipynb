{
 "cells": [
  {
   "cell_type": "code",
   "execution_count": 2,
   "metadata": {},
   "outputs": [],
   "source": [
    "import numpy as np\n",
    "import pandas as pd"
   ]
  },
  {
   "cell_type": "code",
   "execution_count": 3,
   "metadata": {},
   "outputs": [],
   "source": [
    "def gen_learner_history(now,times,correct,alpha=0.0,delta=0.0,windows=[1/24,1,7,30]):\n",
    "    times = np.array(times)\n",
    "    correct = np.array(correct)\n",
    "    elapse = now-times\n",
    "    windows = [0.0] + [864008.0*x for x in windows] + [float('inf')]\n",
    "    lh = {}\n",
    "    for i in range(len(windows)-1):\n",
    "        upper = windows[i+1]\n",
    "        lower = windows[i]\n",
    "        in_win = np.logical_and(elapse > lower,elapse <= upper)\n",
    "        c_in_win = in_win * correct\n",
    "        \n",
    "        lh['n_w'+str(i)] = in_win.sum()\n",
    "        lh['c_w'+str(i)] = c_in_win.sum()\n",
    "    lh[\"alpha\"] = alpha\n",
    "    lh[\"delta\"] = delta\n",
    "    return lh\n",
    "\n",
    "def day(x):\n",
    "    return x * 864008.0\n",
    "def hour(x):\n",
    "    return x * 3600\n",
    "\n"
   ]
  },
  {
   "cell_type": "code",
   "execution_count": 4,
   "metadata": {},
   "outputs": [],
   "source": [
    "#---Fit with torch---\n",
    "#phi tensor([-0.1015,  0.1419,  0.1439,  0.1933,  0.0000])\n",
    "#psi tensor([-0.1941,  0.1973,  0.0245,  0.0347,  0.0000])\n",
    "\n",
    "#---Fit with glmer (in R)----\n",
    "#    ltc_0      lop_0      ltc_1      lop_1      ltc_2      lop_2      ltc_3      lop_3      ltc_4  lop_4  \n",
    "# 0.038408  -0.011849   0.048038  -0.032408   0.033345  -0.024711  -0.003275   0.005272  -0.043829  0.033895  \n",
    "    \n",
    " \n",
    "window_profiles = [{\n",
    "    'scale' : 1/24,\n",
    "    'phi' : .038408,\n",
    "    'psi' : -0.011849\n",
    "},\n",
    "{\n",
    "    'scale' : 1,\n",
    "    'phi' : 0.048038,\n",
    "    'psi' : -0.032408\n",
    "},\n",
    "{\n",
    "    'scale' : 7,\n",
    "    'phi' : 0.033345,\n",
    "    'psi' : -0.024711\n",
    "},\n",
    "{\n",
    "    'scale' : 30,\n",
    "    'phi' : -0.003275,\n",
    "    'psi' : 0.005272\n",
    "},\n",
    "]\n",
    "\n",
    "def sigmoid(x):\n",
    "    return 1/(1 + np.exp(-x)) \n",
    "\n",
    "def DASH_activation(lh,wps):\n",
    "    s = 0\n",
    "    for i,wp in enumerate(wps):\n",
    "        s += wp[\"phi\"]*np.log(1+lh[\"c_w\"+str(i)])-wp[\"psi\"]*np.log(1+lh[\"n_w\"+str(i)])\n",
    "    return lh['alpha'] - lh['delta'] + s\n",
    "\n",
    "def DASH(lh,wps):\n",
    "    x = DASH_activation(lh,wps)\n",
    "    return 1/(1 + np.exp(-x)) \n"
   ]
  },
  {
   "cell_type": "code",
   "execution_count": 5,
   "metadata": {},
   "outputs": [
    {
     "name": "stdout",
     "output_type": "stream",
     "text": [
      "{'n_w0': 0, 'c_w0': 0, 'n_w1': 3, 'c_w1': 2, 'n_w2': 3, 'c_w2': 1, 'n_w3': 0, 'c_w3': 0, 'n_w4': 0, 'c_w4': 0, 'alpha': 0.05, 'delta': 0.3}\n",
      "0.4762857747894385\n"
     ]
    }
   ],
   "source": [
    "learner_history = gen_learner_history(day(2)+hour(1),[\n",
    "        day(0)+hour(0)+0,\n",
    "        day(0)+hour(0)+30,\n",
    "        day(0)+hour(0)+40,\n",
    "        day(1)+hour(3)+0,\n",
    "        day(1)+hour(3)+30,\n",
    "        day(1)+hour(3)+40,\n",
    "        ],[0,0,1,0,1,1],alpha=.05,delta=.3)\n",
    "print(learner_history)\n",
    "print(DASH(learner_history,window_profiles))"
   ]
  }
 ],
 "metadata": {
  "kernelspec": {
   "display_name": "Python 3",
   "language": "python",
   "name": "python3"
  },
  "language_info": {
   "codemirror_mode": {
    "name": "ipython",
    "version": 3
   },
   "file_extension": ".py",
   "mimetype": "text/x-python",
   "name": "python",
   "nbconvert_exporter": "python",
   "pygments_lexer": "ipython3",
   "version": "3.6.5"
  }
 },
 "nbformat": 4,
 "nbformat_minor": 4
}
